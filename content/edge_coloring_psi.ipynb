{
 "cells": [
  {
   "cell_type": "markdown",
   "id": "ee3f3fac",
   "metadata": {},
   "source": [
    "# Edge Coloring Course (PS-I Group)\n",
    "\n",
    "Welcome to this short lesson of graph theory, where we will explore a edge coloring theorem and its proof.\n",
    "\n",
    "SHORT INTRO + LEARNING GOALS + USE HIGHLIGHTS\n",
    "\n",
    "## 1. Pretest - Prior knowledge check\n",
    "First, we will assess previous knowledge required for the full understanding of the following course."
   ]
  },
  {
   "cell_type": "code",
   "execution_count": null,
   "id": "64f3ec53",
   "metadata": {},
   "outputs": [],
   "source": [
    "# Insert induction / bipartite graph QCM (quizz)"
   ]
  },
  {
   "cell_type": "markdown",
   "id": "8c75e30f",
   "metadata": {},
   "source": [
    "## 2. Problem-solving activity\n",
    "Go to this link to the GeoGebra classroom and follow the instructions to complete the exercise. <br>\n",
    "--> [Edge coloring exercise.](www.google.com) <br>\n",
    "<br>\n",
    "Now that this activity is done you can go to the instructions.\n",
    "\n",
    "## 3. Instructions"
   ]
  },
  {
   "cell_type": "markdown",
   "id": "99a16e0d",
   "metadata": {},
   "source": [
    "In this class, we will explore how to quickly find a way to color edges of different graphs with the minimum number of colors.\n",
    "[Example image](graph.png)<br> (IMAGE POUR LES DEFS)\n",
    "<br>\n",
    "We will start with a few important definitions:\n",
    "* **Edge coloring**: an edge coloring of a graph is an assignment of colors to the edges of the graph so that no two incident edges have the same color. We call the minimum number of colors required the **chromatic number**.\n",
    "* **Bipartite graph**: a bipartite graph is a graph whose vertices can be divided into two disjoint and independent sets U and V, that is every edge connects a vertex in U to at least one in V.\n",
    "\n",
    "<div style=\"padding:8px 0 8px 15px;border-left:3px solid #B51F1F;background-color:#F3F3F3;\">\n",
    "    <span style=\"font-weight:bold;text-decoration:underline;\">Reminder</span><br/>   \n",
    "The <b>max-degree</b> of a graph is the maximum number of edges that are incident to a single vertex.\n",
    "</div>"
   ]
  },
  {
   "cell_type": "markdown",
   "id": "7742b177",
   "metadata": {},
   "source": [
    "### Theorem\n",
    "This a special case of Vizing's theorem: <br>\n",
    "<br>\n",
    "<div style=\"padding:8px 0 8px 15px;border-left:3px solid #B51F1F;background-color:#F3F3F3;\">\n",
    "    \n",
    "*Every bipartite graph may be edge colored using a number of colors that is the maximum degree of the graph.* <br> \n",
    "</div>\n",
    "\n",
    "### Proof\n",
    "The proof is separated in two cases. We will go through them step by step."
   ]
  },
  {
   "cell_type": "code",
   "execution_count": null,
   "id": "fe835de7",
   "metadata": {},
   "outputs": [],
   "source": [
    "# Insert quizz to check understanding between explanations "
   ]
  },
  {
   "cell_type": "markdown",
   "id": "472514e3",
   "metadata": {},
   "source": [
    "## 4. Assessment\n",
    "Complete the following exercises to check your understanding of the course."
   ]
  },
  {
   "cell_type": "code",
   "execution_count": null,
   "id": "fc0886e7",
   "metadata": {},
   "outputs": [],
   "source": [
    "# Tournament problem"
   ]
  },
  {
   "cell_type": "code",
   "execution_count": null,
   "id": "aeabc955",
   "metadata": {},
   "outputs": [],
   "source": [
    "# Quizz"
   ]
  }
 ],
 "metadata": {
  "kernelspec": {
   "display_name": "Python 3",
   "language": "python",
   "name": "python3"
  },
  "language_info": {
   "codemirror_mode": {
    "name": "ipython",
    "version": 3
   },
   "file_extension": ".py",
   "mimetype": "text/x-python",
   "name": "python",
   "nbconvert_exporter": "python",
   "pygments_lexer": "ipython3",
   "version": "3.8.8"
  }
 },
 "nbformat": 4,
 "nbformat_minor": 5
}
